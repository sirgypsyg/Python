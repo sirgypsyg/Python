{
 "cells": [
  {
   "cell_type": "code",
   "execution_count": 2,
   "metadata": {},
   "outputs": [],
   "source": [
    "str1 = \"aactag\"\n",
    "str2 = \"atgttc\""
   ]
  },
  {
   "cell_type": "code",
   "execution_count": 43,
   "metadata": {},
   "outputs": [],
   "source": [
    "def count_bonds(str1, str2, offset):\n",
    "    bonds = 0\n",
    "    len1, len2 = len(str1), len(str2)\n",
    "\n",
    "    if offset < 0:\n",
    "        # str2 jest przesunięte w lewo\n",
    "        offset = -offset\n",
    "        for i in range(offset, min(len1 + offset, len2)):\n",
    "            if (str1[i - offset] == 'a' and str2[i] == 't') or \\\n",
    "               (str1[i - offset] == 't' and str2[i] == 'a') or \\\n",
    "               (str1[i - offset] == 'c' and str2[i] == 'g') or \\\n",
    "               (str1[i - offset] == 'g' and str2[i] == 'c'):\n",
    "                bonds += 1\n",
    "    else:\n",
    "        # str2 jest przesunięte w prawo\n",
    "        for i in range(offset, min(len1, len2 + offset)):\n",
    "            if (str1[i] == 'a' and str2[i - offset] == 't') or \\\n",
    "               (str1[i] == 't' and str2[i - offset] == 'a') or \\\n",
    "               (str1[i] == 'c' and str2[i - offset] == 'g') or \\\n",
    "               (str1[i] == 'g' and str2[i - offset] == 'c'):\n",
    "                bonds += 1\n",
    "    return bonds\n",
    "\n",
    "def find_max_bonds(str1, str2):\n",
    "    max_bonds = 0\n",
    "    best_offset = 0\n",
    "    best_alignment = ''\n",
    "    \n",
    "    total_offsets = len(str1) + len(str2) - 1\n",
    "\n",
    "    for i in range(-len(str2) + 1, len(str1)):\n",
    "        bonds = count_bonds(str1, str2, i)\n",
    "        if bonds > max_bonds:\n",
    "            max_bonds = bonds\n",
    "            best_offset = i\n",
    "            if i < 0:\n",
    "                best_alignment = f\"{' ' * (-i)}{str1}\\n{str2}\\n{' ' * (-i)}{' ' * (len(str1) + i)}{'|' * bonds}\"\n",
    "            else:\n",
    "                best_alignment = f\"{str1}\\n{' ' * i}{str2}\\n{' ' * i}{'|' * bonds}\"\n",
    "\n",
    "    return max_bonds, best_offset, best_alignment\n",
    "\n",
    "def process_file(input_file, output_file):\n",
    "    with open(input_file, 'r') as infile, open(output_file, 'w') as outfile:\n",
    "        lines = infile.readlines()\n",
    "        for index, line in enumerate(lines):\n",
    "            str1, str2 = line.strip().split(',')\n",
    "            max_bonds, best_offset, best_alignment = find_max_bonds(str1, str2)\n",
    "            outfile.write(f\"{index + 1}\\t{max_bonds}\\t{best_offset}\\n{best_alignment}\\n\\n\")\n",
    "\n",
    "# Przykładowe użycie\n",
    "process_file('data.txt', 'wynik.txt')"
   ]
  },
  {
   "cell_type": "code",
   "execution_count": null,
   "metadata": {},
   "outputs": [],
   "source": []
  }
 ],
 "metadata": {
  "kernelspec": {
   "display_name": "Python 3",
   "language": "python",
   "name": "python3"
  },
  "language_info": {
   "codemirror_mode": {
    "name": "ipython",
    "version": 3
   },
   "file_extension": ".py",
   "mimetype": "text/x-python",
   "name": "python",
   "nbconvert_exporter": "python",
   "pygments_lexer": "ipython3",
   "version": "3.12.1"
  }
 },
 "nbformat": 4,
 "nbformat_minor": 2
}
