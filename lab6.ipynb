{
 "cells": [
  {
   "cell_type": "code",
   "execution_count": 16,
   "metadata": {},
   "outputs": [
    {
     "name": "stdout",
     "output_type": "stream",
     "text": [
      "*_*__***_\n"
     ]
    }
   ],
   "source": [
    "import random\n",
    "rule = bin(int(input()))[2:]\n",
    "n = input()\n",
    "k = input()\n",
    "plik = input()\n",
    "s = \"\"  # Initialize s as an empty string\n",
    "\n",
    "while (1):\n",
    "    for i in range(0, int(n)):\n",
    "        if(random.choice([0, 1])):\n",
    "            s += \"*\"\n",
    "        else:\n",
    "            s += \"_\"\n",
    "\n",
    "    with open(plik, 'w') as f:\n",
    "        f.write(s)\n",
    "    print(s)\n",
    "    break"
   ]
  },
  {
   "cell_type": "code",
   "execution_count": null,
   "metadata": {},
   "outputs": [],
   "source": [
    "import random\n",
    "\n",
    "rule = 90\n",
    "k = 30 \n",
    "n = 70\n",
    "\n",
    "predict = [\"***\",\"**_\",\"*_*\",\"*__\",\"_**\",\"_*_\",\"__*\",\"___\"]\n",
    "prerule = [\"_\"*int(i=='0')+\"*\"*int(i=='1') for i in f\"{rule:08b}\"]\n",
    "automat = {key: value for (key, value) in zip(predict, prerule)}\n",
    "\n",
    "cells = \"\".join(random.choice(\"_*\") for i in range(n))\n",
    "\n",
    "for _ in range(0,k):\n",
    "    print(cells + \"\\n\")\n",
    "    cells = \"\".join(automat[cells[i-1]+cells[i]+cells[(i+1)*int(i<n-1)]] for i in range(0,n))"
   ]
  },
  {
   "cell_type": "code",
   "execution_count": null,
   "metadata": {},
   "outputs": [],
   "source": []
  }
 ],
 "metadata": {
  "kernelspec": {
   "display_name": "Python 3",
   "language": "python",
   "name": "python3"
  },
  "language_info": {
   "codemirror_mode": {
    "name": "ipython",
    "version": 3
   },
   "file_extension": ".py",
   "mimetype": "text/x-python",
   "name": "python",
   "nbconvert_exporter": "python",
   "pygments_lexer": "ipython3",
   "version": "3.12.1"
  }
 },
 "nbformat": 4,
 "nbformat_minor": 2
}
