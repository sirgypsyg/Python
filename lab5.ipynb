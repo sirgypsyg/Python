{
 "cells": [
  {
   "cell_type": "markdown",
   "id": "d2979f84-af1f-44b8-a6e5-46a6dfb422cd",
   "metadata": {},
   "source": [
    "# LAB 5\n",
    "\n",
    "## Formatowanie łańcuchów\n",
    "\n",
    "### Znak `%`"
   ]
  },
  {
   "cell_type": "code",
   "execution_count": 4,
   "id": "b6f629e9-7486-48a3-8cba-a3b338d883e5",
   "metadata": {},
   "outputs": [
    {
     "name": "stdout",
     "output_type": "stream",
     "text": [
      "2 samochody o masie 2376.85 kilograma..\n"
     ]
    }
   ],
   "source": [
    "dane = (2, 'samochody', 2376.85, 2376.85)\n",
    "print(dane[0], dane[1], \"o masie\", dane[2], \"kilograma..\")"
   ]
  },
  {
   "cell_type": "code",
   "execution_count": 6,
   "id": "a08b81be-c947-4506-a623-f237a6c20924",
   "metadata": {},
   "outputs": [
    {
     "name": "stdout",
     "output_type": "stream",
     "text": [
      "2 samochody o masie 2376.850000 kilograma \n",
      "(w notacji wykładniczej 2.376850e+03 kilograma)\n"
     ]
    }
   ],
   "source": [
    "s = \"%d %s o masie %f kilograma \\n(w notacji wykładniczej %e kilograma)\"\n",
    "print(s %dane)"
   ]
  },
  {
   "cell_type": "code",
   "execution_count": 16,
   "id": "19fb12a0-7830-414a-8a31-94057bd38a00",
   "metadata": {},
   "outputs": [
    {
     "name": "stdout",
     "output_type": "stream",
     "text": [
      "*     Hello*\n"
     ]
    }
   ],
   "source": [
    "print(\"*%10s*\" % (\"Hello\"))"
   ]
  },
  {
   "cell_type": "code",
   "execution_count": 7,
   "id": "5ebae274-c725-4af6-99f1-9bc978c5a261",
   "metadata": {},
   "outputs": [
    {
     "name": "stdout",
     "output_type": "stream",
     "text": [
      "*Hello*\n"
     ]
    }
   ],
   "source": [
    "print(\"*%-10s*\" % (\"Hello\"))"
   ]
  },
  {
   "cell_type": "code",
   "execution_count": 7,
   "id": "e6841f5e-0d2b-4f0d-a0a0-a8ce9db54e5c",
   "metadata": {},
   "outputs": [
    {
     "name": "stdout",
     "output_type": "stream",
     "text": [
      "*    2.8727*\n"
     ]
    }
   ],
   "source": [
    "print(\"*%10.4f*\" % (2.87268723468)) "
   ]
  },
  {
   "cell_type": "code",
   "execution_count": 8,
   "id": "3c293d76-121d-48cf-a347-e6e5fb67471f",
   "metadata": {},
   "outputs": [
    {
     "name": "stdout",
     "output_type": "stream",
     "text": [
      "*2.8727    *\n"
     ]
    }
   ],
   "source": [
    "print(\"*%-10.4f*\" % (2.87268723468)) "
   ]
  },
  {
   "cell_type": "code",
   "execution_count": 24,
   "id": "7ae27385-06ff-4de3-9e4f-ef7df1d2db5c",
   "metadata": {},
   "outputs": [
    {
     "name": "stdout",
     "output_type": "stream",
     "text": [
      "To jest 10%.\n"
     ]
    }
   ],
   "source": [
    "print(\"To jest %d%%.\" % (10))"
   ]
  },
  {
   "cell_type": "markdown",
   "id": "f8e4b6d6-b83b-4b87-a11c-84b8b4022d91",
   "metadata": {},
   "source": [
    "### Metoda `format`"
   ]
  },
  {
   "cell_type": "code",
   "execution_count": 28,
   "id": "971d1736-429f-48f4-bc0a-3de03687c3d3",
   "metadata": {},
   "outputs": [
    {
     "name": "stdout",
     "output_type": "stream",
     "text": [
      "psy i 2 koty i papugi\n"
     ]
    }
   ],
   "source": [
    "s = \"{1} i {0} {zwierzeta}\"\n",
    "print(s.format(2, \"psy\", zwierzeta = \"koty i papugi\"))"
   ]
  },
  {
   "cell_type": "code",
   "execution_count": 29,
   "id": "072a5796-f00b-440d-9c6d-0ecfbcb65c62",
   "metadata": {},
   "outputs": [
    {
     "data": {
      "text/plain": [
       "'element listy {lista[1]} i wartość ze słownika: {slownik[b]}'"
      ]
     },
     "execution_count": 29,
     "metadata": {},
     "output_type": "execute_result"
    }
   ],
   "source": [
    "s = \"element listy {lista[1]} i wartość ze słownika: {slownik[b]}\"\n",
    "print(s.format(lista = [1,2,3], slownik = {\"a\":\"Ala\", \"b\":\"Bolek\"}))"
   ]
  },
  {
   "cell_type": "code",
   "execution_count": 54,
   "id": "f0985df1-099a-4717-8509-355dcc782569",
   "metadata": {},
   "outputs": [
    {
     "name": "stdout",
     "output_type": "stream",
     "text": [
      "|     Hello|\n"
     ]
    }
   ],
   "source": [
    "print(\"|{0:>10s}|\".format(\"Hello\", \"world\"))"
   ]
  },
  {
   "cell_type": "code",
   "execution_count": 18,
   "id": "3380d823-313d-451d-8636-482461edf3c1",
   "metadata": {},
   "outputs": [
    {
     "name": "stdout",
     "output_type": "stream",
     "text": [
      "|Hello      |\n"
     ]
    }
   ],
   "source": [
    "print(\"|{0:<11s}|\".format(\"Hello\", \"world\"))"
   ]
  },
  {
   "cell_type": "code",
   "execution_count": 59,
   "id": "6afad899-d99e-4546-8a5d-4e6c9b9af704",
   "metadata": {},
   "outputs": [
    {
     "name": "stdout",
     "output_type": "stream",
     "text": [
      "|   Hello   |\n"
     ]
    }
   ],
   "source": [
    "print(\"|{0:^11s}|\".format(\"Hello\", \"world\"))"
   ]
  },
  {
   "cell_type": "code",
   "execution_count": 22,
   "id": "28cfeeaa-3baf-4483-b1ef-ba3330b0c0a2",
   "metadata": {},
   "outputs": [
    {
     "name": "stdout",
     "output_type": "stream",
     "text": [
      "|______Hello|\n"
     ]
    }
   ],
   "source": [
    "print(\"|{0:_>11s}|\".format(\"Hello\", \"world\"))"
   ]
  },
  {
   "cell_type": "code",
   "execution_count": 73,
   "id": "d4f9bd5a-985a-4b8a-9975-9b8b29fd4633",
   "metadata": {},
   "outputs": [
    {
     "name": "stdout",
     "output_type": "stream",
     "text": [
      "______3.14158_______\n"
     ]
    }
   ],
   "source": [
    "print(\"{0:_^20.5f}\".format(3.14157929879))"
   ]
  },
  {
   "cell_type": "markdown",
   "id": "bc9a4553-8365-42d0-8d55-208479bfde54",
   "metadata": {},
   "source": [
    "### `f` łańcuchy"
   ]
  },
  {
   "cell_type": "code",
   "execution_count": 76,
   "id": "b2a43572-9659-4832-aa4a-1580ec41fc8c",
   "metadata": {},
   "outputs": [
    {
     "name": "stdout",
     "output_type": "stream",
     "text": [
      "Długość wynosi 2.\n",
      "Pole wynosi 4\n",
      "Jeszcze raz, pole wynosi 4\n"
     ]
    }
   ],
   "source": [
    "x1 = 2\n",
    "s1 = f\"Długość wynosi {x1}.\"\n",
    "s2 = f\"Pole wynosi {(x2:=x1**2)}\"\n",
    "x1 = 3\n",
    "s3 = f\"Jeszcze raz, pole wynosi {x2}\"\n",
    "print(s1)\n",
    "print(s2)\n",
    "print(s3)"
   ]
  },
  {
   "cell_type": "code",
   "execution_count": 81,
   "id": "4e8bb695-b9fc-492c-876c-d2e7207b5606",
   "metadata": {},
   "outputs": [
    {
     "name": "stdout",
     "output_type": "stream",
     "text": [
      "***2.71830***\n",
      "***2.72e+00***\n"
     ]
    }
   ],
   "source": [
    "e = 2.718300380942\n",
    "print(f\"{e:*^13.5f}\")\n",
    "print(f\"{e:*^14.2e}\")"
   ]
  },
  {
   "cell_type": "markdown",
   "id": "74605c2d-fa7d-43ab-a3b4-f3678830f66d",
   "metadata": {},
   "source": [
    "## Moduły"
   ]
  },
  {
   "cell_type": "code",
   "execution_count": 4,
   "id": "15c48be9-b53c-4944-881c-e4df3d753000",
   "metadata": {},
   "outputs": [],
   "source": [
    "import modul"
   ]
  },
  {
   "cell_type": "code",
   "execution_count": 5,
   "id": "1f1ba77c-1e36-4f30-8b1d-359759f28290",
   "metadata": {},
   "outputs": [
    {
     "data": {
      "text/plain": [
       "1000"
      ]
     },
     "execution_count": 5,
     "metadata": {},
     "output_type": "execute_result"
    }
   ],
   "source": [
    "modul.f1(10)\n"
   ]
  },
  {
   "cell_type": "code",
   "execution_count": 6,
   "id": "2062cd13-97e9-4e57-8b85-4991bacff77f",
   "metadata": {},
   "outputs": [],
   "source": [
    "import modul as md"
   ]
  },
  {
   "cell_type": "code",
   "execution_count": 36,
   "id": "7746ed08-8a75-4851-b7a3-ba4d73c95a0b",
   "metadata": {},
   "outputs": [
    {
     "data": {
      "text/plain": [
       "80"
      ]
     },
     "execution_count": 36,
     "metadata": {},
     "output_type": "execute_result"
    }
   ],
   "source": [
    "md.f2(10)"
   ]
  },
  {
   "cell_type": "code",
   "execution_count": 12,
   "id": "67af4c6d-eec5-499a-bfd4-e2740493d630",
   "metadata": {},
   "outputs": [],
   "source": [
    "from modul import f1"
   ]
  },
  {
   "cell_type": "code",
   "execution_count": 15,
   "id": "2fd75b0f-e16a-4f17-b2a4-43482e97657d",
   "metadata": {},
   "outputs": [
    {
     "ename": "NameError",
     "evalue": "name 'f2' is not defined",
     "output_type": "error",
     "traceback": [
      "\u001b[0;31m---------------------------------------------------------------------------\u001b[0m",
      "\u001b[0;31mNameError\u001b[0m                                 Traceback (most recent call last)",
      "Cell \u001b[0;32mIn[15], line 2\u001b[0m\n\u001b[1;32m      1\u001b[0m f1(\u001b[38;5;241m25\u001b[39m)\n\u001b[0;32m----> 2\u001b[0m \u001b[43mf2\u001b[49m(\u001b[38;5;241m10\u001b[39m)\n",
      "\u001b[0;31mNameError\u001b[0m: name 'f2' is not defined"
     ]
    }
   ],
   "source": [
    "f1(25)\n",
    "f2(10)"
   ]
  },
  {
   "cell_type": "code",
   "execution_count": 40,
   "id": "a0668321-141a-4621-b501-10f130ff7676",
   "metadata": {},
   "outputs": [],
   "source": [
    "from modul import *"
   ]
  },
  {
   "cell_type": "code",
   "execution_count": 41,
   "id": "52ab59d6-09a9-4d7c-90a3-591725efd0d7",
   "metadata": {},
   "outputs": [
    {
     "data": {
      "text/plain": [
       "80"
      ]
     },
     "execution_count": 41,
     "metadata": {},
     "output_type": "execute_result"
    }
   ],
   "source": [
    "f2(10)"
   ]
  },
  {
   "cell_type": "code",
   "execution_count": 42,
   "id": "7054faa2-8598-411f-a7d0-7386f53ba366",
   "metadata": {},
   "outputs": [],
   "source": [
    "import modul"
   ]
  },
  {
   "cell_type": "code",
   "execution_count": 43,
   "id": "0f2ef1b8-37c4-47a6-963c-e18e8d4bcb32",
   "metadata": {},
   "outputs": [
    {
     "name": "stdout",
     "output_type": "stream",
     "text": [
      "0.7071067811865476\n"
     ]
    }
   ],
   "source": [
    "from math import *\n",
    "\n",
    "print(cos(pi/4))"
   ]
  },
  {
   "cell_type": "code",
   "execution_count": 49,
   "id": "ba55cbb5-10b3-424b-b7f2-aa97aeaf4b8d",
   "metadata": {},
   "outputs": [
    {
     "name": "stdout",
     "output_type": "stream",
     "text": [
      "0.5485620619279039\n",
      "22\n",
      "['T', 'C', 'A', 'G', 'C', 'G', 'T', 'G', 'G', 'G']\n"
     ]
    }
   ],
   "source": [
    "from random import *\n",
    "\n",
    "print(random())\n",
    "print(randint(1,100))\n",
    "print(choices(\"ACTG\", weights=(1,1,1,2), k=10))"
   ]
  },
  {
   "cell_type": "code",
   "execution_count": null,
   "id": "de90ff1a-25de-46e4-86ed-16c79443a1e3",
   "metadata": {},
   "outputs": [],
   "source": []
  }
 ],
 "metadata": {
  "kernelspec": {
   "display_name": "Python 3 (ipykernel)",
   "language": "python",
   "name": "python3"
  },
  "language_info": {
   "codemirror_mode": {
    "name": "ipython",
    "version": 3
   },
   "file_extension": ".py",
   "mimetype": "text/x-python",
   "name": "python",
   "nbconvert_exporter": "python",
   "pygments_lexer": "ipython3",
   "version": "3.12.1"
  }
 },
 "nbformat": 4,
 "nbformat_minor": 5
}
