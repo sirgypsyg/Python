{
 "cells": [
  {
   "cell_type": "code",
   "execution_count": 29,
   "metadata": {},
   "outputs": [],
   "source": [
    "def get_alignment_strings(seq1, seq2, shift):\n",
    "    curr_bonds = 0\n",
    "    if shift < 0:\n",
    "        aligned_seq1 = \" \" * abs(shift) + seq1\n",
    "        aligned_seq2 = seq2 + \" \" * abs(shift)\n",
    "    else:\n",
    "        aligned_seq1 = seq1 + \" \" * shift\n",
    "        aligned_seq2 = \" \" * shift + seq2\n",
    "    \n",
    "    bond_string = \"\"\n",
    "    for i in range(len(aligned_seq2)):\n",
    "        if aligned_seq1[i] != \" \" and aligned_seq2[i] != \" \":\n",
    "            if (aligned_seq1[i] == 'a' and aligned_seq2[i] == 't') or \\\n",
    "               (aligned_seq1[i] == 't' and aligned_seq2[i] == 'a') or \\\n",
    "               (aligned_seq1[i] == 'c' and aligned_seq2[i] == 'g') or \\\n",
    "               (aligned_seq1[i] == 'g' and aligned_seq2[i] == 'c'):\n",
    "                bond_string += \"|\"\n",
    "                curr_bonds += 1\n",
    "            else:\n",
    "                bond_string += \" \"\n",
    "        else:\n",
    "            bond_string += \" \"\n",
    "    \n",
    "    return aligned_seq1, bond_string, aligned_seq2, curr_bonds\n",
    "\n",
    "results = []\n",
    "lines = []\n",
    "with open(\"data.txt\", \"r\") as file:\n",
    "    lines = file.readlines()\n",
    "\n",
    "for index, line in enumerate(lines):\n",
    "    seq1, seq2 = line.strip().split(',')\n",
    "    max_bonds = 0\n",
    "    best_shift = 0\n",
    "    best_alignment = (\"\", \"\", \"\")\n",
    "    \n",
    "    for shift in range(-len(seq2), len(seq1) + 1):\n",
    "        aligned_str1, bond_str, aligned_str2, curr_bonds = get_alignment_strings(seq1, seq2, shift)\n",
    "    \n",
    "        if curr_bonds > max_bonds:\n",
    "            max_bonds = curr_bonds\n",
    "            best_shift = shift\n",
    "            best_alignment = (aligned_str1, bond_str, aligned_str2)\n",
    "    \n",
    "    results.append((index + 1, max_bonds, best_shift, best_alignment))\n",
    "\n",
    "with open(\"wynik.txt\", \"w\") as file:\n",
    "    for result in results:\n",
    "        index, max_bonds, best_shift, best_alignment = result\n",
    "        aligned_str1, bond_str, aligned_str2 = best_alignment\n",
    "        output_str = f\"{index}\\t{max_bonds}\\t{best_shift}\\n{aligned_str1}\\n{bond_str}\\n{aligned_str2}\\n\"\n",
    "        file.write(output_str)"
   ]
  },
  {
   "cell_type": "code",
   "execution_count": null,
   "metadata": {},
   "outputs": [],
   "source": []
  }
 ],
 "metadata": {
  "kernelspec": {
   "display_name": "Python 3",
   "language": "python",
   "name": "python3"
  },
  "language_info": {
   "codemirror_mode": {
    "name": "ipython",
    "version": 3
   },
   "file_extension": ".py",
   "mimetype": "text/x-python",
   "name": "python",
   "nbconvert_exporter": "python",
   "pygments_lexer": "ipython3",
   "version": "3.12.1"
  }
 },
 "nbformat": 4,
 "nbformat_minor": 2
}
