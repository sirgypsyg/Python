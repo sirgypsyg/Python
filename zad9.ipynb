{
 "cells": [
  {
   "cell_type": "code",
   "execution_count": null,
   "metadata": {},
   "outputs": [],
   "source": [
    "import numpy as np\n",
    "import matplotlib.pyplot as plt\n",
    "import matplotlib.animation as animation\n",
    "from matplotlib import rc\n",
    "rc('animation', html='jshtml')\n",
    "\n",
    "# Initialize the board\n",
    "grid_size = 50\n",
    "Z = np.random.choice([0, 1], size=(grid_size, grid_size))\n",
    "\n",
    "# Define the function to count neighbors\n",
    "def count_neighbors(Z):\n",
    "    return sum(np.roll(np.roll(Z, i, 0), j, 1)\n",
    "               for i in (-1, 0, 1) for j in (-1, 0, 1)\n",
    "               if (i != 0 or j != 0))\n",
    "\n",
    "# Define the update function for each generation\n",
    "def evolve(frame_num, Z, mat):\n",
    "    count = count_neighbors(Z)\n",
    "    Z_next = (count == 3) | (Z & (count == 2))\n",
    "    mat.set_data(Z_next)\n",
    "    Z[:] = Z_next[:]\n",
    "    return mat,\n",
    "\n",
    "# Set up the animation plot\n",
    "fig, ax = plt.subplots()\n",
    "mat = ax.matshow(Z)\n",
    "ani = animation.FuncAnimation(fig, evolve, frames=100, fargs=(Z, mat), interval=200)\n",
    "plt.show()"
   ]
  },
  {
   "cell_type": "code",
   "execution_count": null,
   "metadata": {},
   "outputs": [],
   "source": []
  }
 ],
 "metadata": {
  "kernelspec": {
   "display_name": "Python 3",
   "language": "python",
   "name": "python3"
  },
  "language_info": {
   "codemirror_mode": {
    "name": "ipython",
    "version": 3
   },
   "file_extension": ".py",
   "mimetype": "text/x-python",
   "name": "python",
   "nbconvert_exporter": "python",
   "pygments_lexer": "ipython3",
   "version": "3.12.1"
  }
 },
 "nbformat": 4,
 "nbformat_minor": 2
}
