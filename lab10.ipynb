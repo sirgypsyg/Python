{
 "cells": [
  {
   "cell_type": "code",
   "execution_count": 37,
   "metadata": {},
   "outputs": [
    {
     "name": "stdout",
     "output_type": "stream",
     "text": [
      "Kabul\n",
      "Tirana\n",
      "Algier\n",
      "Andora (miasto)\n",
      "Luanda\n",
      "Saint John’s\n",
      "Rijad\n",
      "Buenos Aires\n",
      "Erywań\n",
      "Canberra\n",
      "2.105325937271118\n",
      "Kabul\n",
      "Tirana\n",
      "Algier\n",
      "Andora\n",
      "Luanda\n",
      "Saint John’s\n",
      "Rijad\n",
      "Buenos Aires\n",
      "Erywań\n",
      "Canberra\n",
      "2.169707775115967\n"
     ]
    }
   ],
   "source": [
    "from requests import get\n",
    "from bs4 import BeautifulSoup\n",
    "from time import time\n",
    "\n",
    "def stolica1(s):\n",
    "    f = get(\"https://pl.wikipedia.org/wiki/\" + s)\n",
    "    s = f.text\n",
    "    f.close()\n",
    "    return s.split('Stolica</a>', 1)[1].split('\">', 1)[0].split('title=\"', 1)[1]\n",
    "\n",
    "\n",
    "def stolica2(s):\n",
    "    f = get(\"https://pl.wikipedia.org/wiki/\" + s)\n",
    "    b, c, d, = ' ', ' ', ' '\n",
    "    for l in f.iter_lines():\n",
    "        a, b, c, d = (b, c, d, l.decode('UTF-8'))\n",
    "        if \"Stolica</a>\" in a:\n",
    "            return d.split('\">')[1].split('<')[0]\n",
    "        \n",
    "\n",
    "countries = ['Afganistan', 'Albania', 'Algieria', 'Andora', 'Angola', 'Antigua i Barbuda', 'Arabia Saudyjska', 'Argentyna', 'Armenia', 'Australia']\n",
    "\n",
    "t = time()\n",
    "for c in countries:\n",
    "    print(stolica1(c))\n",
    "print(time() - t)\n",
    "\n",
    "t = time()\n",
    "for c in countries:\n",
    "    print(stolica2(c))\n",
    "print(time() - t)\n",
    "\n",
    "\n"
   ]
  },
  {
   "cell_type": "code",
   "execution_count": 47,
   "metadata": {},
   "outputs": [
    {
     "name": "stdout",
     "output_type": "stream",
     "text": [
      "0.1 0.1 \n",
      "0.1 \n",
      "0.1 \n",
      "\n",
      "0.1 0.1 \n",
      "0.1 \n",
      "0.1 \n",
      "\n",
      "0.1 0.1 \n",
      "0.1 \n",
      "0.1 \n",
      "0.1 \n",
      "0.1 \n",
      "0.1 \n",
      "0.1 \n",
      "0.1 \n",
      "0.1 \n",
      "0.1 \n",
      "0.1 \n",
      "\n",
      "End \n"
     ]
    }
   ],
   "source": [
    "from threading import Thread\n",
    "from time import sleep\n",
    "\n",
    "def old_print(*x):\n",
    "    for i in x:\n",
    "        print(i, end=' ')\n",
    "        sleep(0.1)\n",
    "    print()\n",
    "\n",
    "def f(n):\n",
    "    global l\n",
    "    for i in range(n):\n",
    "        l += i\n",
    "        old_print(0.1)\n",
    "\n",
    "l = 0\n",
    "thread_1 = Thread(target=f, args=(10,))\n",
    "thread_2 = Thread(target=f, args=(10,))\n",
    "\n",
    "thread_1.start()\n",
    "thread_2.start()\n",
    "\n",
    "thread_1.join()\n",
    "thread_2.join()\n",
    "\n",
    "\n",
    "old_print(\"End\")"
   ]
  },
  {
   "cell_type": "code",
   "execution_count": null,
   "metadata": {},
   "outputs": [],
   "source": []
  }
 ],
 "metadata": {
  "kernelspec": {
   "display_name": "Python 3",
   "language": "python",
   "name": "python3"
  },
  "language_info": {
   "codemirror_mode": {
    "name": "ipython",
    "version": 3
   },
   "file_extension": ".py",
   "mimetype": "text/x-python",
   "name": "python",
   "nbconvert_exporter": "python",
   "pygments_lexer": "ipython3",
   "version": "3.12.1"
  }
 },
 "nbformat": 4,
 "nbformat_minor": 2
}
