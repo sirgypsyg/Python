{
 "cells": [
  {
   "cell_type": "code",
   "execution_count": 117,
   "metadata": {},
   "outputs": [
    {
     "data": {
      "text/plain": [
       "[2, 4, 8, 10, 14, 16, 20]"
      ]
     },
     "execution_count": 117,
     "metadata": {},
     "output_type": "execute_result"
    }
   ],
   "source": [
    "#Ćwiczenie 8\n",
    "#Z podanej listy liczb całkowitych l odrzuć liczby podzielne przez trzy, spośród pozostałych elementów podwój nieparzyste.\n",
    "\n",
    "# Podana lista liczb całkowitych\n",
    "l = [1, 2, 3, 4, 5, 6, 7, 8, 9, 10]\n",
    "\n",
    "# Odrzucenie liczb podzielnych przez trzy\n",
    "l = [i*2 for i in l if i % 3 != 0]\n",
    "\n",
    "\n",
    "\n",
    "list(map(lambda i:2*i if i%2 else i,filter(lambda i:i%3,l)))\n",
    "\n"
   ]
  },
  {
   "cell_type": "code",
   "execution_count": 24,
   "metadata": {},
   "outputs": [
    {
     "name": "stdout",
     "output_type": "stream",
     "text": [
      "['ala', 'ma', 'a', 'ma']\n"
     ]
    }
   ],
   "source": [
    "#Ćwiczenie 9\n",
    "#W podanej liście łańcuchów l oczyść elementy z nieliter.\n",
    "\n",
    "l = [\"ala\", \"*\", \"ma\", \"kota*\", \" \", \"a\", \"[[kot\", \"ma\", \"ale]]\"]\n",
    "\n",
    "l = [word for word in l if all(c.isalpha() for c in word)]\n",
    "\n",
    "print(l)\n",
    "\n",
    "list(map(lambda j:''.join(filter(lambda i:i.isalpha(),j)),l))\n"
   ]
  },
  {
   "cell_type": "code",
   "execution_count": 104,
   "metadata": {},
   "outputs": [
    {
     "name": "stdout",
     "output_type": "stream",
     "text": [
      "[123, 789]\n"
     ]
    }
   ],
   "source": [
    "#Ćwiczenie 10\n",
    "#W podanej liście łańcuchów l oczyść elementy z niecyfr, następnie przekształć je \n",
    "#na liczby całkowite (pamiętaj o konieczności odrzucenia łańcuchów pustych).\n",
    " \n",
    "l = [\"123\", \"abc\", \"\", \"\", \"789\"]\n",
    "\n",
    "# Ocena łańcuchów z cyframi, odrzucenie pustych łańcuchów i przekształcenie ich w liczby całkowite\n",
    "result = [int(s) for s in l if s.isdigit()]\n",
    "\n",
    "print(result)\n",
    "\n",
    "list(map(int,filter(bool,map(lambda j:''.join(filter(lambda i:i.isdigit(),j)),l))))\n"
   ]
  },
  {
   "cell_type": "code",
   "execution_count": 33,
   "metadata": {},
   "outputs": [
    {
     "name": "stdout",
     "output_type": "stream",
     "text": [
      "[(2, 3), (4, 5), (7, 8)]\n"
     ]
    }
   ],
   "source": [
    "#Ćwiczenie 11\n",
    "#Z podanej listy krotek l odrzuć krotki krótsze niż 2, pozostałe przytnij do pierwszych dwóch elementów.\n",
    "\n",
    "# Podana lista krotek\n",
    "l = [(1,), (2, 3), (4, 5, 6), (7, 8, 9, 10)]\n",
    "\n",
    "# Odrzucenie krotek krótszych niż 2 elementy i przycięcie pozostałych do dwóch pierwszych elementów\n",
    "result = [t[0:2] for t in l if len(t) >= 2]\n",
    "\n",
    "print(result)\n",
    "\n",
    "list(map(lambda i:tuple(i[:2]),filter(lambda i:len(i)>1,l)))"
   ]
  },
  {
   "cell_type": "code",
   "execution_count": 53,
   "metadata": {},
   "outputs": [
    {
     "data": {
      "text/plain": [
       "[(2, 3), (4, 5, 6)]"
      ]
     },
     "execution_count": 53,
     "metadata": {},
     "output_type": "execute_result"
    }
   ],
   "source": [
    "#Ćwiczenie 12\n",
    "#Z podanej listy krotek l odrzuć krotki, których suma jest nieparzysta.\n",
    "\n",
    "l = [(2,), (2, 3), (4, 5, 6), (7, 8, 9, 10)]\n",
    "\n",
    "# Odrzucenie krotek krótszych niż 2 elementy i przycięcie pozostałych do dwóch pierwszych elementów\n",
    "l = [t for t in l if sum(t) % 2]\n",
    "l\n",
    "\n",
    "list(filter(lambda i:sum(i)%2,l))\n"
   ]
  },
  {
   "cell_type": "code",
   "execution_count": 63,
   "metadata": {},
   "outputs": [
    {
     "data": {
      "text/plain": [
       "[(3, 6, 9), (12, 15, 18)]"
      ]
     },
     "execution_count": 63,
     "metadata": {},
     "output_type": "execute_result"
    }
   ],
   "source": [
    "#Ćwiczenie 13\n",
    "#W podanej liście krotek l pozostaw krotki, których wszystkie elementy są podzielne przez 3.\n",
    "\n",
    "l = [(3, 6, 9), (12, 15, 18), (2, 4, 6), (7, 9, 12)]\n",
    "\n",
    "l = [t for t in l if all(x % 3 == 0 for x in t)]\n",
    "l\n",
    "\n",
    "list(filter(lambda i:all(map(lambda j:j%3==0,i)),l))"
   ]
  },
  {
   "cell_type": "code",
   "execution_count": 65,
   "metadata": {},
   "outputs": [
    {
     "data": {
      "text/plain": [
       "[(3, 6, 9), (12, 15, 18), (2, 4, 6)]"
      ]
     },
     "execution_count": 65,
     "metadata": {},
     "output_type": "execute_result"
    }
   ],
   "source": [
    "#Ćwiczenie 14\n",
    "#W podanej liście krotek l pozostaw te, w których istnieje element podzielny przez 3.\n",
    "\n",
    "l = [(3, 6, 9), (12, 15, 18), (2, 4, 6), (7, 2, 11)]\n",
    "\n",
    "l = [t for t in l if any(x % 3 == 0 for x in t)]\n",
    "l\n",
    "\n",
    "list(filter(lambda i:any(map(lambda j:j%3==0,i)),l))\n"
   ]
  },
  {
   "cell_type": "code",
   "execution_count": 115,
   "metadata": {},
   "outputs": [
    {
     "data": {
      "text/plain": [
       "[['ab', 'fcf'], ['gh', 'i'], ['jkl', 'mno']]"
      ]
     },
     "execution_count": 115,
     "metadata": {},
     "output_type": "execute_result"
    }
   ],
   "source": [
    "#Ćwiczenie 15\n",
    "#W podanej liście niepustych łańcuchów l pozostaw łańcuchy zawierające więcej niż jedno słowo (spacja w środku) i #przytnij je do pierwszego słowa.\n",
    "\n",
    "l = [\"abfcf\", \"def\", \"gh i\", \" jkl mno\"]\n",
    "l = [i.split()[0] for i in l if ' ' in i]\n",
    "l\n",
    "\n",
    "list(map(lambda i:i.split(' ',1)[0],filter(lambda i:' ' in i,l)))"
   ]
  },
  {
   "cell_type": "code",
   "execution_count": 85,
   "metadata": {},
   "outputs": [
    {
     "name": "stdout",
     "output_type": "stream",
     "text": [
      "Zachodzi prawo de Morgana dla A: True\n"
     ]
    }
   ],
   "source": [
    "#16\n",
    "#Napisz jednolinijkowy program sprawdzający zachodzenie prawa de Morgana\n",
    "\n",
    "A = [True, True, True]  # Przykładowa lista wartości logicznych\n",
    "\n",
    "result = all(not x for x in A) == any(not x for x in A)\n",
    "\n",
    "print(\"Zachodzi prawo de Morgana dla A:\", result)"
   ]
  },
  {
   "cell_type": "code",
   "execution_count": 94,
   "metadata": {},
   "outputs": [
    {
     "name": "stdout",
     "output_type": "stream",
     "text": [
      "16\n",
      "8\n",
      "9.0\n"
     ]
    }
   ],
   "source": [
    "#21\n",
    "#Napisz funkcję pole, która dla jednego argumentu oblicza pole kwadratu, dla dwóch — pole prostokąta, a dla trzech — pole trapezu.\n",
    "\n",
    "\n",
    "def pole(x, y=None, z=None):\n",
    "    if y is None:\n",
    "        return x ** 2\n",
    "    elif z is None:\n",
    "        return x * y\n",
    "    else:\n",
    "        return 0.5 * (x + y) * z\n",
    "\n",
    "print(pole(4))        # Oblicza pole kwadratu\n",
    "print(pole(4, 2))     # Oblicza pole prostokąta\n",
    "print(pole(4, 2, 3))  # Oblicza pole trapezu\n",
    "\n",
    "\n"
   ]
  },
  {
   "cell_type": "code",
   "execution_count": null,
   "metadata": {},
   "outputs": [],
   "source": [
    "#Ćwiczenie 22\n",
    "#Wykonaj ćwiczenia od 8. do 15. za pomocą instrukcji map oraz filter.\n"
   ]
  },
  {
   "cell_type": "code",
   "execution_count": null,
   "metadata": {},
   "outputs": [],
   "source": [
    "#23\n",
    "#Dla listy funkcji l = [lambda x:x+1, lambda x:x**2, lambda x:x%3] stwórz listę wartości w 1 tych elementów listy, które w 0 przyjmują wartość 0.\n",
    "list(map(lambda i:i(1), filter(lambda i:i(0) == 0, l)))\n",
    "\n",
    "\n"
   ]
  }
 ],
 "metadata": {
  "kernelspec": {
   "display_name": "Python 3",
   "language": "python",
   "name": "python3"
  },
  "language_info": {
   "codemirror_mode": {
    "name": "ipython",
    "version": 3
   },
   "file_extension": ".py",
   "mimetype": "text/x-python",
   "name": "python",
   "nbconvert_exporter": "python",
   "pygments_lexer": "ipython3",
   "version": "3.12.1"
  }
 },
 "nbformat": 4,
 "nbformat_minor": 2
}
